{
 "cells": [
  {
   "cell_type": "code",
   "execution_count": 48,
   "metadata": {},
   "outputs": [],
   "source": [
    "# Create a function that takes in a list of intervals and returns how many intervals overlap with a given point.\n",
    "# An interval overlaps a particular point if the point exists inside the interval, or on the interval's boundary. \n",
    "# For example the point 3 overlaps with the interval [2, 4] (it is inside) and [2, 3] (it is on the boundary).\n",
    "\n",
    "def Overlap(arr):\n",
    "    \n",
    "    #Create a count, assign the check integer to a variable, remove it from the end\n",
    "    \n",
    "    count = 0\n",
    "    check = arr[1]\n",
    "    arrlist = arr[0]\n",
    "    \n",
    "    #I want to iterate through arr[1] to see if the check is in the range of each object\n",
    "    \n",
    "    for x in (arrlist):\n",
    "        if check in range(x[0],x[1]+1):\n",
    "            count += 1\n",
    "    print(count)"
   ]
  }
 ],
 "metadata": {
  "kernelspec": {
   "display_name": "Python 3",
   "language": "python",
   "name": "python3"
  },
  "language_info": {
   "codemirror_mode": {
    "name": "ipython",
    "version": 3
   },
   "file_extension": ".py",
   "mimetype": "text/x-python",
   "name": "python",
   "nbconvert_exporter": "python",
   "pygments_lexer": "ipython3",
   "version": "3.7.0"
  }
 },
 "nbformat": 4,
 "nbformat_minor": 2
}
