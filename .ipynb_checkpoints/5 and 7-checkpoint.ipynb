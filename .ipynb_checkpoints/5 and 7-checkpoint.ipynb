{
 "cells": [
  {
   "cell_type": "code",
   "execution_count": null,
   "metadata": {},
   "outputs": [],
   "source": [
    "#find all numbers divisible by 7, but not multiple of 5 b/w 2000 and 3200 (included), numbers should be printed\n",
    "#in a comma separated sequence in a single line\n",
    "\n",
    "listnum = []\n",
    "for x in range(2000, 3201):\n",
    "    if x%7==0 and x%5!=0:\n",
    "        listnum.append(str(x))\n",
    "print(', '.join(listnum))"
   ]
  }
 ],
 "metadata": {
  "kernelspec": {
   "display_name": "Python 3",
   "language": "python",
   "name": "python3"
  },
  "language_info": {
   "codemirror_mode": {
    "name": "ipython",
    "version": 3
   },
   "file_extension": ".py",
   "mimetype": "text/x-python",
   "name": "python",
   "nbconvert_exporter": "python",
   "pygments_lexer": "ipython3",
   "version": "3.7.0"
  }
 },
 "nbformat": 4,
 "nbformat_minor": 2
}
