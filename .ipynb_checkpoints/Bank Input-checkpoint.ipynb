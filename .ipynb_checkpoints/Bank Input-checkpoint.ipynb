{
 "cells": [
  {
   "cell_type": "code",
   "execution_count": null,
   "metadata": {},
   "outputs": [],
   "source": [
    "def bankaccount():\n",
    "    \n",
    "    baccount = 0\n",
    "\n",
    "    activity = input('''Thank you for using the Bank of Ben, preface deposits with a \"d\" and withdrawals with a \"w\". Do not\n",
    "    Include a \"$\". Type \"done\" to complete your transaction: ''')\n",
    "\n",
    "    alower = activity.lower()\n",
    "    asplit = alower.split()\n",
    "\n",
    "    while asplit[0] != 'done':\n",
    "    \n",
    "        alower = activity.lower()\n",
    "        asplit = alower.split()\n",
    "        \n",
    "        if asplit[0] == 'd':\n",
    "            baccount += int(asplit[1])\n",
    "            activity = input('Would you like to perform another action? If not type \"done\". ')\n",
    "        elif asplit[0] == 'w':\n",
    "            if baccount < int(asplit[1]):\n",
    "                print('You do not have enough funds to perform that action.')\n",
    "            elif baccount >= asplit[1]:\n",
    "                baccount -= int(asplit[1])\n",
    "            activity = input('Would you like to perform another action? If not type \"done\". ')\n",
    "        elif asplit[0] == 'done':\n",
    "            print('\\nYour total balance is: {} \\nThank You! Have a nice day!'.format(baccount))\n",
    "            return\n",
    "        else:\n",
    "            print('Follow the directions and try again')\n",
    "            bankaccount()\n",
    "\n",
    "bankaccount()"
   ]
  }
 ],
 "metadata": {
  "kernelspec": {
   "display_name": "Python 3",
   "language": "python",
   "name": "python3"
  },
  "language_info": {
   "codemirror_mode": {
    "name": "ipython",
    "version": 3
   },
   "file_extension": ".py",
   "mimetype": "text/x-python",
   "name": "python",
   "nbconvert_exporter": "python",
   "pygments_lexer": "ipython3",
   "version": "3.7.0"
  }
 },
 "nbformat": 4,
 "nbformat_minor": 2
}
