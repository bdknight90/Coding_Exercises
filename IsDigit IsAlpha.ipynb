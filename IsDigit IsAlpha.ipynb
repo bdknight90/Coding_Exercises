{
 "cells": [
  {
   "cell_type": "code",
   "execution_count": null,
   "metadata": {},
   "outputs": [],
   "source": [
    "#write a program that accepts a sentence and calculates the number of letters and digits\n",
    "\n",
    "def lncount(s):\n",
    "    \n",
    "    slist = list(s)\n",
    "    lcount = 0\n",
    "    dcount = 0\n",
    "    xcount = 0\n",
    "    \n",
    "    for x in slist:\n",
    "        if x.isalpha() == True:\n",
    "            lcount += 1\n",
    "        elif x.isdigit() == True:\n",
    "            dcount += 1\n",
    "        elif x == ' ':\n",
    "            pass\n",
    "        else:\n",
    "            xcount += 1\n",
    "    print('Letters: {} \\nDigits: {} \\nOther Characters: {}'.format(lcount, dcount, xcount))\n",
    "\n",
    "lncount()"
   ]
  }
 ],
 "metadata": {
  "kernelspec": {
   "display_name": "Python 3",
   "language": "python",
   "name": "python3"
  },
  "language_info": {
   "codemirror_mode": {
    "name": "ipython",
    "version": 3
   },
   "file_extension": ".py",
   "mimetype": "text/x-python",
   "name": "python",
   "nbconvert_exporter": "python",
   "pygments_lexer": "ipython3",
   "version": "3.7.0"
  }
 },
 "nbformat": 4,
 "nbformat_minor": 2
}
